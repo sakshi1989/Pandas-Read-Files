{
 "cells": [
  {
   "cell_type": "markdown",
   "metadata": {},
   "source": [
    "# <center> Working with Parquet Files</center>"
   ]
  },
  {
   "cell_type": "markdown",
   "metadata": {},
   "source": [
    "### Benefits of Parquet Filetype\n",
    "* Takes less space\n",
    "* Efficient in reading data\n",
    "* Data retains its data type\n",
    "* Saves pre-processing effort for the next person"
   ]
  },
  {
   "cell_type": "code",
   "execution_count": 10,
   "metadata": {},
   "outputs": [
    {
     "data": {
      "text/html": [
       "<div>\n",
       "<style scoped>\n",
       "    .dataframe tbody tr th:only-of-type {\n",
       "        vertical-align: middle;\n",
       "    }\n",
       "\n",
       "    .dataframe tbody tr th {\n",
       "        vertical-align: top;\n",
       "    }\n",
       "\n",
       "    .dataframe thead th {\n",
       "        text-align: right;\n",
       "    }\n",
       "</style>\n",
       "<table border=\"1\" class=\"dataframe\">\n",
       "  <thead>\n",
       "    <tr style=\"text-align: right;\">\n",
       "      <th></th>\n",
       "      <th>Open</th>\n",
       "      <th>High</th>\n",
       "      <th>Low</th>\n",
       "      <th>Close</th>\n",
       "      <th>Volume</th>\n",
       "      <th>Close_time</th>\n",
       "      <th>Quote_asset_volume</th>\n",
       "      <th>Number_of_trades</th>\n",
       "      <th>Taker_buy_base_asset_volume</th>\n",
       "      <th>Taker_buy_quote_asset_volume</th>\n",
       "      <th>symbol</th>\n",
       "      <th>time</th>\n",
       "    </tr>\n",
       "  </thead>\n",
       "  <tbody>\n",
       "    <tr>\n",
       "      <th>20099957</th>\n",
       "      <td>0.001359</td>\n",
       "      <td>0.001359</td>\n",
       "      <td>0.001359</td>\n",
       "      <td>0.001359</td>\n",
       "      <td>68.0</td>\n",
       "      <td>1520399519999</td>\n",
       "      <td>0.092412</td>\n",
       "      <td>1</td>\n",
       "      <td>68.0</td>\n",
       "      <td>0.092412</td>\n",
       "      <td>STORJETH</td>\n",
       "      <td>2018-03-07 05:11:00</td>\n",
       "    </tr>\n",
       "    <tr>\n",
       "      <th>17078363</th>\n",
       "      <td>0.002439</td>\n",
       "      <td>0.002439</td>\n",
       "      <td>0.002439</td>\n",
       "      <td>0.002439</td>\n",
       "      <td>28.0</td>\n",
       "      <td>1521790739999</td>\n",
       "      <td>0.068303</td>\n",
       "      <td>1</td>\n",
       "      <td>28.0</td>\n",
       "      <td>0.068303</td>\n",
       "      <td>IOTAETH</td>\n",
       "      <td>2018-03-23 07:38:00</td>\n",
       "    </tr>\n",
       "  </tbody>\n",
       "</table>\n",
       "</div>"
      ],
      "text/plain": [
       "              Open      High       Low     Close  Volume     Close_time  \\\n",
       "20099957  0.001359  0.001359  0.001359  0.001359    68.0  1520399519999   \n",
       "17078363  0.002439  0.002439  0.002439  0.002439    28.0  1521790739999   \n",
       "\n",
       "          Quote_asset_volume  Number_of_trades  Taker_buy_base_asset_volume  \\\n",
       "20099957            0.092412                 1                         68.0   \n",
       "17078363            0.068303                 1                         28.0   \n",
       "\n",
       "          Taker_buy_quote_asset_volume    symbol                time  \n",
       "20099957                      0.092412  STORJETH 2018-03-07 05:11:00  \n",
       "17078363                      0.068303   IOTAETH 2018-03-23 07:38:00  "
      ]
     },
     "execution_count": 10,
     "metadata": {},
     "output_type": "execute_result"
    }
   ],
   "source": [
    "import os\n",
    "import pandas as pd\n",
    "\n",
    "base_dir = os.getcwd()\n",
    "file_path = os.path.join(base_dir,\"data\",\"trading.parquet\")\n",
    "\n",
    "df1 = pd.read_parquet(file_path)\n",
    "df1.head(n=2)"
   ]
  },
  {
   "cell_type": "code",
   "execution_count": 11,
   "metadata": {},
   "outputs": [
    {
     "name": "stdout",
     "output_type": "stream",
     "text": [
      "<class 'pandas.core.frame.DataFrame'>\n",
      "Int64Index: 46674 entries, 20099957 to 21337107\n",
      "Data columns (total 12 columns):\n",
      " #   Column                        Non-Null Count  Dtype         \n",
      "---  ------                        --------------  -----         \n",
      " 0   Open                          46674 non-null  float64       \n",
      " 1   High                          46674 non-null  float64       \n",
      " 2   Low                           46674 non-null  float64       \n",
      " 3   Close                         46674 non-null  float64       \n",
      " 4   Volume                        46674 non-null  float64       \n",
      " 5   Close_time                    46674 non-null  int64         \n",
      " 6   Quote_asset_volume            46674 non-null  float64       \n",
      " 7   Number_of_trades              46674 non-null  int64         \n",
      " 8   Taker_buy_base_asset_volume   46674 non-null  float64       \n",
      " 9   Taker_buy_quote_asset_volume  46674 non-null  float64       \n",
      " 10  symbol                        46674 non-null  object        \n",
      " 11  time                          46674 non-null  datetime64[ns]\n",
      "dtypes: datetime64[ns](1), float64(8), int64(2), object(1)\n",
      "memory usage: 4.6+ MB\n"
     ]
    }
   ],
   "source": [
    "df1.info()"
   ]
  },
  {
   "cell_type": "code",
   "execution_count": 9,
   "metadata": {},
   "outputs": [
    {
     "data": {
      "text/plain": [
       "Open                            False\n",
       "High                            False\n",
       "Low                             False\n",
       "Close                           False\n",
       "Volume                          False\n",
       "Close_time                      False\n",
       "Quote_asset_volume              False\n",
       "Number_of_trades                False\n",
       "Taker_buy_base_asset_volume     False\n",
       "Taker_buy_quote_asset_volume    False\n",
       "symbol                          False\n",
       "time                            False\n",
       "dtype: bool"
      ]
     },
     "execution_count": 9,
     "metadata": {},
     "output_type": "execute_result"
    }
   ],
   "source": [
    "df1.isna().any()"
   ]
  }
 ],
 "metadata": {
  "interpreter": {
   "hash": "b46035a89e00264b55277eda63495b8cb3a35561bf0c371cecadad00be554994"
  },
  "kernelspec": {
   "display_name": "Python 3 (ipykernel)",
   "language": "python",
   "name": "python3"
  },
  "language_info": {
   "codemirror_mode": {
    "name": "ipython",
    "version": 3
   },
   "file_extension": ".py",
   "mimetype": "text/x-python",
   "name": "python",
   "nbconvert_exporter": "python",
   "pygments_lexer": "ipython3",
   "version": "3.9.5"
  }
 },
 "nbformat": 4,
 "nbformat_minor": 2
}
